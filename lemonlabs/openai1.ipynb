{
 "cells": [
  {
   "cell_type": "code",
   "execution_count": 5,
   "id": "eb1a2254-5613-433f-b738-f5e9aa439ae6",
   "metadata": {},
   "outputs": [],
   "source": [
    "from openai import OpenAI\n",
    "\n",
    "\n",
    "client = OpenAI(api_key=\"XXXXXXXXXXXXXXXXXXXXXXXXXXXXX\")\n"
   ]
  },
  {
   "cell_type": "code",
   "execution_count": 6,
   "id": "218ddf71",
   "metadata": {},
   "outputs": [],
   "source": [
    "#context = \"translate in english  like computer engineer\"\n",
    "#context = \"traduit en francais dans un voculaire informatique\"\n",
    "\n",
    "#context = \"arrange sentence like a technical reviewer\"\n",
    "context=  \"The following answer is correct, high-quality, and written by an expert.\""
   ]
  },
  {
   "cell_type": "code",
   "execution_count": 7,
   "id": "40dc49c3",
   "metadata": {},
   "outputs": [],
   "source": [
    "query = ''' doone moi un fichier de configuration json pour le projet XYZ\n",
    "\n",
    "  '''   "
   ]
  },
  {
   "cell_type": "code",
   "execution_count": 8,
   "id": "13ed4a45-1452-4cbe-afc9-fb5786cc74c1",
   "metadata": {
    "scrolled": true
   },
   "outputs": [],
   "source": [
    "response = client.chat.completions.create(\n",
    "  model=\"gpt-4\",\n",
    "  messages=[\n",
    "   {\n",
    "      \"role\": \"system\",\n",
    "      \"content\":context\n",
    "    },\n",
    "    {  \n",
    "      \"role\": \"assistant\",\n",
    "       \"content\": query }\n",
    "  ],\n",
    "  temperature=1,\n",
    "  max_tokens=500,\n",
    "  top_p=1,\n",
    "  frequency_penalty=0,\n",
    "  presence_penalty=0\n",
    ")"
   ]
  },
  {
   "cell_type": "code",
   "execution_count": 9,
   "id": "a43aa33b-90a8-4328-a357-03a25cda649a",
   "metadata": {},
   "outputs": [
    {
     "name": "stdout",
     "output_type": "stream",
     "text": [
      "Désolé pour la confusion, mais Krakend ne prend pas en charge S3 proxy de manière native. Cependant, vous pouvez créer une configuration pour interagir avec S3 via une fonction AWS Lambda ou en utilisant un autre intermédiaire qui gère l'accès S3. Voici un exemple basique de fichier de configuration Krakend JSON :\n",
      "\n",
      "```json\n",
      "{\n",
      "  \"version\": 2,\n",
      "  \"name\": \"KrakenD - S3 Access\",\n",
      "  \"port\": 8080,\n",
      "  \"cache_ttl\": \"3600s\",\n",
      "  \"timeout\": \"3000ms\",\n",
      "  \"extra_config\": {},\n",
      "  \"endpoints\": [\n",
      "    {\n",
      "      \"endpoint\": \"/my-s3-bucket/{object}\",\n",
      "      \"method\": \"GET\",\n",
      "      \"backend\": [\n",
      "        {\n",
      "          \"host\": [\n",
      "            \"https://my-lambda-function.execute-api.us-east-1.amazonaws.com\"\n",
      "          ],\n",
      "          \"url_pattern\": \"/prod/my-s3-bucket/{object}\",\n",
      "          \"encoding\": \"json\",\n",
      "          \"extra_config\": {}\n",
      "        }\n",
      "      ]\n",
      "    }\n",
      "  ]\n",
      "}\n",
      "```\n",
      "\n",
      "Dans cet exemple, nous utilisons AWS Lambda (via API Gateway) comme intermédiaire pour accéder à S3. Vous devez remplacer \"https://my-lambda-function.execute-api.us-east-1.amazonaws.com\" par l'URL de votre API de fonction Lambda et \"/prod/my-s3-bucket/{object}\" par le chemin de votre bucket et l'objet que vous souhaitez accéder.\n",
      "\n",
      "Gardez à l'esprit qu'il pourrait être nécessaire d'ajuster cette configuration en fonction des besoins spécifiques de votre application ou de votre environnement.\n"
     ]
    }
   ],
   "source": [
    "#print(response)\n",
    "print(response.choices[0].message.content)"
   ]
  },
  {
   "cell_type": "code",
   "execution_count": null,
   "id": "c2c0f9eb-aab4-4e52-a270-606227d77f8d",
   "metadata": {},
   "outputs": [],
   "source": []
  }
 ],
 "metadata": {
  "kernelspec": {
   "display_name": "Python 3 (ipykernel)",
   "language": "python",
   "name": "python3"
  },
  "language_info": {
   "codemirror_mode": {
    "name": "ipython",
    "version": 3
   },
   "file_extension": ".py",
   "mimetype": "text/x-python",
   "name": "python",
   "nbconvert_exporter": "python",
   "pygments_lexer": "ipython3",
   "version": "3.11.5"
  }
 },
 "nbformat": 4,
 "nbformat_minor": 5
}
