{
 "cells": [
  {
   "cell_type": "code",
   "execution_count": null,
   "id": "eb1a2254-5613-433f-b738-f5e9aa439ae6",
   "metadata": {},
   "outputs": [],
   "source": [
    "from openai import OpenAI\n",
    "\n",
    "\n",
    "client = OpenAI(api_key=\"XXXXXXXXXXXXXXXXXXXXXXXXXXXXX\")\n"
   ]
  },
  {
   "cell_type": "code",
   "execution_count": null,
   "id": "218ddf71",
   "metadata": {},
   "outputs": [],
   "source": [
    "#context = \"translate in english  like computer engineer\"\n",
    "#context = \"traduit en francais dans un voculaire informatique\"\n",
    "\n",
    "#context = \"arrange sentence like a technical reviewer\"\n",
    "context=  \"The following answer is correct, high-quality, and written by an expert.\""
   ]
  },
  {
   "cell_type": "code",
   "execution_count": null,
   "id": "40dc49c3",
   "metadata": {},
   "outputs": [],
   "source": [
    "query = ''' doone moi un fichier de configuration json pour le projet XYZ\n",
    "\n",
    "  '''   "
   ]
  },
  {
   "cell_type": "code",
   "execution_count": null,
   "id": "13ed4a45-1452-4cbe-afc9-fb5786cc74c1",
   "metadata": {
    "scrolled": true
   },
   "outputs": [],
   "source": [
    "response = client.chat.completions.create(\n",
    "  model=\"gpt-4\",\n",
    "  messages=[\n",
    "   {\n",
    "      \"role\": \"system\",\n",
    "      \"content\":context\n",
    "    },\n",
    "    {  \n",
    "      \"role\": \"assistant\",\n",
    "       \"content\": query }\n",
    "  ],\n",
    "  temperature=1,\n",
    "  max_tokens=500,\n",
    "  top_p=1,\n",
    "  frequency_penalty=0,\n",
    "  presence_penalty=0\n",
    ")"
   ]
  },
  {
   "cell_type": "code",
   "execution_count": null,
   "id": "a43aa33b-90a8-4328-a357-03a25cda649a",
   "metadata": {},
   "outputs": [
    
